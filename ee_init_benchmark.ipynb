{
 "cells": [
  {
   "cell_type": "markdown",
   "id": "9b9a97a7-d216-4b40-b0f4-5554ee6bc3e8",
   "metadata": {},
   "source": [
    "# check highvolume endpoint earthengine"
   ]
  },
  {
   "cell_type": "markdown",
   "id": "5fe9c6b4-b6ba-46f1-bcfd-2e8181003e4d",
   "metadata": {},
   "source": [
    "## before running the notebook"
   ]
  },
  {
   "cell_type": "markdown",
   "id": "011573d7-f229-4372-932d-01faf3e162fb",
   "metadata": {},
   "source": [
    "THe obective of this exercise is to check the efficiency of the highvolume endpoint of GEE Python API. \n",
    "\n",
    "So far we were connecting the GEEusing the following: \n",
    "```python\n",
    "ee.Initialize()\n",
    "```\n",
    "\n",
    "In his [tutorial](https://gorelick.medium.com/fast-er-downloads-a2abd512aa26), N. Gorelick suggest tu use the [highvolumne](https://developers.google.com/earth-engine/cloud/highvolume) endpoint when batch donwloading images as it should be faster\n",
    "```python\n",
    "ee.Initialize(opt_url='https://earthengine-highvolume.googleapis.com')\n",
    "```\n",
    "\n",
    "Based on this assumption the questions for us would be: \n",
    "- How fast is it ? \n",
    "- should we use it all the time ? \n",
    "\n",
    "What I did is run the following script N times on a `m4` machine. The script randomly reuse N. Gorelick batch download on N ([1; 10000]) points with or without the highvolume entrypoint. \n",
    "```\n",
    "python run_batch.py 400\n",
    "```\n",
    "\n",
    "In the next cells you'll see the first results I obtained."
   ]
  },
  {
   "cell_type": "markdown",
   "id": "264f513e-f711-4f1e-b2e9-cf5fecc347f7",
   "metadata": {},
   "source": [
    "## draw the results of the benchmark"
   ]
  },
  {
   "cell_type": "code",
   "execution_count": 17,
   "id": "7e58bf22-c968-457b-b0f1-441e9c62636e",
   "metadata": {},
   "outputs": [],
   "source": [
    "from pathlib import Path\n",
    "import pandas as pd \n",
    "from matplotlib import pyplot as plt"
   ]
  },
  {
   "cell_type": "code",
   "execution_count": 18,
   "id": "0563b89a-4c69-4b98-8015-defbc5ce1fc4",
   "metadata": {},
   "outputs": [],
   "source": [
    "file = Path.cwd()/\"ee_init_benchmark\"/\"ee_init_benchmark.csv\"\n",
    "assert file.is_file()"
   ]
  },
  {
   "cell_type": "code",
   "execution_count": 21,
   "id": "92780da8-c5b7-4ef5-8d53-ef258f023b7a",
   "metadata": {},
   "outputs": [
    {
     "data": {
      "text/plain": [
       "37"
      ]
     },
     "execution_count": 21,
     "metadata": {},
     "output_type": "execute_result"
    }
   ],
   "source": [
    "results = pd.read_csv(file, names=[\"hv\", \"nb_items\", \"time\"])\n",
    "len(results)"
   ]
  },
  {
   "cell_type": "code",
   "execution_count": 22,
   "id": "9cc296bb-68bb-4b90-967f-7b0380f395b5",
   "metadata": {},
   "outputs": [
    {
     "data": {
      "text/plain": [
       "<matplotlib.axes._subplots.AxesSubplot at 0x7fc73cc674c0>"
      ]
     },
     "execution_count": 22,
     "metadata": {},
     "output_type": "execute_result"
    },
    {
     "data": {
      "image/png": "[encoded data removed]",
      "text/plain": [
       "<Figure size 432x288 with 1 Axes>"
      ]
     },
     "metadata": {
      "needs_background": "light"
     },
     "output_type": "display_data"
    }
   ],
   "source": [
    "import seaborn as sns\n",
    "\n",
    "sns.scatterplot(data=results, x='nb_items', y='time', hue='hv')"
   ]
  }
 ],
 "metadata": {
  "kernelspec": {
   "display_name": "Python 3",
   "language": "python",
   "name": "python3"
  },
  "language_info": {
   "codemirror_mode": {
    "name": "ipython",
    "version": 3
   },
   "file_extension": ".py",
   "mimetype": "text/x-python",
   "name": "python",
   "nbconvert_exporter": "python",
   "pygments_lexer": "ipython3",
   "version": "3.8.10"
  }
 },
 "nbformat": 4,
 "nbformat_minor": 5
}
